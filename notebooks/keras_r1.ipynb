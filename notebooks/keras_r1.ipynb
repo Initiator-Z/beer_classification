{
 "cells": [
  {
   "cell_type": "code",
   "execution_count": 1,
   "id": "a242bffd",
   "metadata": {},
   "outputs": [
    {
     "name": "stderr",
     "output_type": "stream",
     "text": [
      "C:\\Users\\69418\\anaconda3\\envs\\dl\\lib\\site-packages\\requests\\__init__.py:109: RequestsDependencyWarning: urllib3 (1.26.14) or chardet (None)/charset_normalizer (3.1.0) doesn't match a supported version!\n",
      "  warnings.warn(\n",
      "C:\\Users\\69418\\AppData\\Local\\Temp\\ipykernel_4720\\1496274293.py:5: DeprecationWarning: `import kerastuner` is deprecated, please use `import keras_tuner`.\n",
      "  import kerastuner as kt\n"
     ]
    }
   ],
   "source": [
    "import pandas as pd\n",
    "import numpy as np\n",
    "from sklearn.model_selection import train_test_split\n",
    "from tensorflow.keras import callbacks\n",
    "import kerastuner as kt\n",
    "from tensorflow import keras\n",
    "from tensorflow.keras import layers\n",
    "from sklearn.preprocessing import StandardScaler, LabelEncoder\n",
    "from tensorflow.keras.utils import to_categorical\n",
    "import tensorflow.keras.metrics\n",
    "from sklearn.metrics import f1_score, accuracy_score\n",
    "import shutil\n",
    "import warnings\n",
    "warnings.filterwarnings('ignore')"
   ]
  },
  {
   "cell_type": "code",
   "execution_count": 2,
   "id": "323c384b",
   "metadata": {},
   "outputs": [],
   "source": [
    "df = pd.read_csv('data/beer_reviews.csv')\n",
    "df = df.drop(['brewery_id', 'review_profilename', 'beer_name', 'beer_beerid'], axis=1)\n",
    "df['review_time'] = df['review_time'].astype(float)\n",
    "df['beer_abv'].fillna((df['beer_abv'].mean()), inplace=True)\n",
    "df = df.dropna()"
   ]
  },
  {
   "cell_type": "code",
   "execution_count": 3,
   "id": "952cdcc6",
   "metadata": {},
   "outputs": [],
   "source": [
    "features = df.drop('beer_style', axis=1)\n",
    "target = df['beer_style']\n",
    "\n",
    "categorical_features = ['brewery_name']\n",
    "label_encoder = LabelEncoder()\n",
    "for feature in categorical_features:\n",
    "    features[feature] = label_encoder.fit_transform(features[feature])\n",
    "\n",
    "scaler = StandardScaler()\n",
    "scaled_features = scaler.fit_transform(features)\n",
    "\n",
    "label_encoder = LabelEncoder()\n",
    "encoded_target = label_encoder.fit_transform(target)\n",
    "one_hot_target = to_categorical(encoded_target)\n",
    "\n",
    "X_train, X_test, y_train, y_test = train_test_split(scaled_features, one_hot_target, test_size=0.2, random_state=42)"
   ]
  },
  {
   "cell_type": "code",
   "execution_count": 4,
   "id": "626fa873",
   "metadata": {},
   "outputs": [
    {
     "name": "stdout",
     "output_type": "stream",
     "text": [
      "Trial 80 Complete [00h 06m 13s]\n",
      "val_accuracy: 0.4681362807750702\n",
      "\n",
      "Best val_accuracy So Far: 0.4681362807750702\n",
      "Total elapsed time: 01h 55m 21s\n",
      "INFO:tensorflow:Oracle triggered exit\n",
      "9917/9917 [==============================] - 24s 2ms/step - loss: 1.9614 - accuracy: 0.4681\n",
      "Test loss: 1.9613968133926392, Test accuracy: 0.4681362807750702\n"
     ]
    }
   ],
   "source": [
    "tuner_directory = 'tuner_directory/classification'\n",
    "\n",
    "def build_model(hp):\n",
    "    model = keras.Sequential()\n",
    "    \n",
    "    model.add(layers.InputLayer(input_shape=(X_train.shape[1],)))\n",
    "\n",
    "    for i in range(hp.Int('num_layers', 1, 5)):\n",
    "        model.add(layers.Dense(units=hp.Int('units_' + str(i), 16, 256, 16),\n",
    "                               activation='relu'))\n",
    "        model.add(layers.Dropout(hp.Float('dropout_' + str(i), 0.0, 0.5, step=0.1)))  # Add dropout layer\n",
    "    \n",
    "    model.add(layers.Dense(len(label_encoder.classes_), activation='softmax'))\n",
    "\n",
    "    model.compile(optimizer='adam',\n",
    "                  loss='categorical_crossentropy',\n",
    "                  metrics=['accuracy'])\n",
    "    \n",
    "    return model\n",
    "\n",
    "early_stopping = callbacks.EarlyStopping(monitor='val_loss', patience=5)\n",
    "\n",
    "tuner = kt.Hyperband(build_model,\n",
    "                     objective='val_accuracy',\n",
    "                     max_epochs=30,\n",
    "                     directory='tuner_directory',\n",
    "                     project_name='multiclass')\n",
    "\n",
    "tuner.search(X_train, y_train, epochs=30, validation_data=(X_test, y_test),\n",
    "             callbacks=[early_stopping], batch_size=512)\n",
    "\n",
    "best_model = tuner.get_best_models(num_models=1)[0]\n",
    "\n",
    "loss, accuracy = best_model.evaluate(X_test, y_test)\n",
    "print(f'Test loss: {loss}, Test accuracy: {accuracy}')\n",
    "\n",
    "#shutil.rmtree(tuner_directory)"
   ]
  },
  {
   "cell_type": "code",
   "execution_count": 5,
   "id": "6183c398",
   "metadata": {},
   "outputs": [
    {
     "name": "stdout",
     "output_type": "stream",
     "text": [
      "Model: \"sequential\"\n",
      "_________________________________________________________________\n",
      " Layer (type)                Output Shape              Param #   \n",
      "=================================================================\n",
      " dense (Dense)               (None, 32)                288       \n",
      "                                                                 \n",
      " dropout (Dropout)           (None, 32)                0         \n",
      "                                                                 \n",
      " dense_1 (Dense)             (None, 144)               4752      \n",
      "                                                                 \n",
      " dropout_1 (Dropout)         (None, 144)               0         \n",
      "                                                                 \n",
      " dense_2 (Dense)             (None, 160)               23200     \n",
      "                                                                 \n",
      " dropout_2 (Dropout)         (None, 160)               0         \n",
      "                                                                 \n",
      " dense_3 (Dense)             (None, 256)               41216     \n",
      "                                                                 \n",
      " dropout_3 (Dropout)         (None, 256)               0         \n",
      "                                                                 \n",
      " dense_4 (Dense)             (None, 104)               26728     \n",
      "                                                                 \n",
      "=================================================================\n",
      "Total params: 96,184\n",
      "Trainable params: 96,184\n",
      "Non-trainable params: 0\n",
      "_________________________________________________________________\n"
     ]
    }
   ],
   "source": [
    "best_model.summary()"
   ]
  },
  {
   "cell_type": "code",
   "execution_count": 6,
   "id": "3532dcc4",
   "metadata": {},
   "outputs": [],
   "source": [
    "best_model.save('model_0.47.h5')"
   ]
  },
  {
   "cell_type": "code",
   "execution_count": null,
   "id": "a2251414",
   "metadata": {},
   "outputs": [],
   "source": []
  }
 ],
 "metadata": {
  "kernelspec": {
   "display_name": "Python 3 (ipykernel)",
   "language": "python",
   "name": "python3"
  },
  "language_info": {
   "codemirror_mode": {
    "name": "ipython",
    "version": 3
   },
   "file_extension": ".py",
   "mimetype": "text/x-python",
   "name": "python",
   "nbconvert_exporter": "python",
   "pygments_lexer": "ipython3",
   "version": "3.9.16"
  }
 },
 "nbformat": 4,
 "nbformat_minor": 5
}
