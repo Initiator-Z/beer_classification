{
 "cells": [
  {
   "cell_type": "code",
   "execution_count": 1,
   "metadata": {},
   "outputs": [],
   "source": [
    "from src.deploy import Input, Inputs"
   ]
  },
  {
   "cell_type": "code",
   "execution_count": 13,
   "metadata": {},
   "outputs": [],
   "source": [
    "input=Input(review_time=1,review_overall=2,review_appearance=1,review_aroma=1,review_palate=1,review_taste=1,beer_abv=1)"
   ]
  },
  {
   "cell_type": "code",
   "execution_count": 27,
   "metadata": {},
   "outputs": [],
   "source": [
    "ii=Inputs(input_list=[input,input])"
   ]
  },
  {
   "cell_type": "code",
   "execution_count": 28,
   "metadata": {},
   "outputs": [
    {
     "ename": "AttributeError",
     "evalue": "'list' object has no attribute 'values'",
     "output_type": "error",
     "traceback": [
      "\u001b[1;31m---------------------------------------------------------------------------\u001b[0m",
      "\u001b[1;31mAttributeError\u001b[0m                            Traceback (most recent call last)",
      "\u001b[1;32mUntitled-1.ipynb Cell 4\u001b[0m in \u001b[0;36m<cell line: 3>\u001b[1;34m()\u001b[0m\n\u001b[0;32m      <a href='vscode-notebook-cell:Untitled-1.ipynb?jupyter-notebook#X14sdW50aXRsZWQ%3D?line=0'>1</a>\u001b[0m \u001b[39mimport\u001b[39;00m \u001b[39mnumpy\u001b[39;00m \u001b[39mas\u001b[39;00m \u001b[39mnp\u001b[39;00m\n\u001b[0;32m      <a href='vscode-notebook-cell:Untitled-1.ipynb?jupyter-notebook#X14sdW50aXRsZWQ%3D?line=1'>2</a>\u001b[0m features \u001b[39m=\u001b[39m ii\u001b[39m.\u001b[39mdict_inputs()\n\u001b[1;32m----> <a href='vscode-notebook-cell:Untitled-1.ipynb?jupyter-notebook#X14sdW50aXRsZWQ%3D?line=2'>3</a>\u001b[0m model_input \u001b[39m=\u001b[39m np\u001b[39m.\u001b[39marray(\u001b[39mlist\u001b[39m(features\u001b[39m.\u001b[39;49mvalues()))\u001b[39m.\u001b[39mreshape(\u001b[39m1\u001b[39m, \u001b[39m-\u001b[39m\u001b[39m1\u001b[39m)\n",
      "\u001b[1;31mAttributeError\u001b[0m: 'list' object has no attribute 'values'"
     ]
    }
   ],
   "source": [
    "import numpy as np\n",
    "features = ii.dict_inputs()\n",
    "model_input = np.array(list(features.values())).reshape(1, -1)"
   ]
  },
  {
   "cell_type": "code",
   "execution_count": 26,
   "metadata": {},
   "outputs": [
    {
     "data": {
      "text/plain": [
       "array([[{'review_time': 1, 'review_overall': 2.0, 'review_aroma': 1.0, 'review_appearance': 1.0, 'review_palate': 1.0, 'review_taste': 1.0, 'beer_abv': 1.0},\n",
       "        {'review_time': 1, 'review_overall': 2.0, 'review_aroma': 1.0, 'review_appearance': 1.0, 'review_palate': 1.0, 'review_taste': 1.0, 'beer_abv': 1.0}]],\n",
       "      dtype=object)"
      ]
     },
     "execution_count": 26,
     "metadata": {},
     "output_type": "execute_result"
    }
   ],
   "source": [
    "model_input"
   ]
  },
  {
   "cell_type": "code",
   "execution_count": 23,
   "metadata": {},
   "outputs": [
    {
     "name": "stdout",
     "output_type": "stream",
     "text": [
      "(1, 2)\n"
     ]
    }
   ],
   "source": []
  },
  {
   "cell_type": "code",
   "execution_count": 16,
   "metadata": {},
   "outputs": [
    {
     "data": {
      "text/plain": [
       "(1, 7)"
      ]
     },
     "execution_count": 16,
     "metadata": {},
     "output_type": "execute_result"
    }
   ],
   "source": []
  },
  {
   "cell_type": "code",
   "execution_count": 11,
   "metadata": {},
   "outputs": [
    {
     "data": {
      "text/plain": [
       "{'review_time': {'description': 'Review time',\n",
       "  'title': 'Review Time',\n",
       "  'type': 'integer'},\n",
       " 'review_overall': {'description': 'Overall review score, scored out of 5',\n",
       "  'title': 'Review Overall',\n",
       "  'type': 'number'},\n",
       " 'review_aroma': {'description': 'Aroma review score, scored out of 5',\n",
       "  'title': 'Review Aroma',\n",
       "  'type': 'number'},\n",
       " 'review_appearance': {'description': 'Appearance review score, scored out of 5',\n",
       "  'title': 'Review Appearance',\n",
       "  'type': 'number'},\n",
       " 'review_palate': {'description': 'Palate review score, scored out of 5',\n",
       "  'title': 'Review Palate',\n",
       "  'type': 'number'},\n",
       " 'review_taste': {'description': 'Taste review score, scored out of 5',\n",
       "  'title': 'Review Taste',\n",
       "  'type': 'number'},\n",
       " 'beer_abv': {'description': 'Alcohol by volume',\n",
       "  'title': 'Beer Abv',\n",
       "  'type': 'number'}}"
      ]
     },
     "execution_count": 11,
     "metadata": {},
     "output_type": "execute_result"
    }
   ],
   "source": []
  },
  {
   "cell_type": "code",
   "execution_count": 6,
   "metadata": {},
   "outputs": [
    {
     "data": {
      "text/plain": [
       "[{'review_time': 1,\n",
       "  'review_overall': 2.0,\n",
       "  'review_aroma': 1.0,\n",
       "  'review_appearance': 1.0,\n",
       "  'review_palate': 1.0,\n",
       "  'review_taste': 1.0,\n",
       "  'beer_abv': 1.0},\n",
       " {'review_time': 1,\n",
       "  'review_overall': 2.0,\n",
       "  'review_aroma': 1.0,\n",
       "  'review_appearance': 1.0,\n",
       "  'review_palate': 1.0,\n",
       "  'review_taste': 1.0,\n",
       "  'beer_abv': 1.0}]"
      ]
     },
     "execution_count": 6,
     "metadata": {},
     "output_type": "execute_result"
    }
   ],
   "source": [
    "ii.dict_inputs()"
   ]
  },
  {
   "cell_type": "code",
   "execution_count": null,
   "metadata": {},
   "outputs": [],
   "source": []
  }
 ],
 "metadata": {
  "kernelspec": {
   "display_name": "Python 3",
   "language": "python",
   "name": "python3"
  },
  "language_info": {
   "codemirror_mode": {
    "name": "ipython",
    "version": 3
   },
   "file_extension": ".py",
   "mimetype": "text/x-python",
   "name": "python",
   "nbconvert_exporter": "python",
   "pygments_lexer": "ipython3",
   "version": "3.9.12"
  },
  "orig_nbformat": 4
 },
 "nbformat": 4,
 "nbformat_minor": 2
}
