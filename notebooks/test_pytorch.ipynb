{
 "cells": [
  {
   "cell_type": "code",
   "execution_count": 1,
   "metadata": {},
   "outputs": [],
   "source": [
    "from app import Input, Inputs"
   ]
  },
  {
   "cell_type": "code",
   "execution_count": 2,
   "metadata": {},
   "outputs": [],
   "source": [
    "input = Input(brewery_name='good',review_profilename='me',review_year=2020,review_month=1,review_appearance=1,review_aroma=1,review_overall=1,review_palate=1,review_taste=1,beer_abv=1)\n",
    "inputs = Inputs(input_list=[input, input])"
   ]
  },
  {
   "cell_type": "code",
   "execution_count": 3,
   "metadata": {},
   "outputs": [],
   "source": [
    "from fastapi import FastAPI\n",
    "from starlette.responses import JSONResponse\n",
    "from joblib import load\n",
    "from app import get_device, load_pytorch_model, MyDataset"
   ]
  },
  {
   "cell_type": "code",
   "execution_count": 4,
   "metadata": {},
   "outputs": [
    {
     "name": "stdout",
     "output_type": "stream",
     "text": [
      "cpu\n",
      "cpu\n"
     ]
    }
   ],
   "source": [
    "app = FastAPI()\n",
    "\n",
    "# get device\n",
    "device = get_device()\n",
    "# load model\n",
    "model = load_pytorch_model('./models/pytorch_model.pth', device)\n",
    "# load map for labels\n",
    "label_map = load('./models/label_map')\n",
    "# load preprocesser\n",
    "preprocessor = load('./models/preprocessor')\n",
    "# define features\n",
    "features = Input.schema()['properties']"
   ]
  },
  {
   "cell_type": "code",
   "execution_count": 5,
   "metadata": {},
   "outputs": [],
   "source": [
    "def prepare_features(df):\n",
    "    from torch.utils.data import DataLoader\n",
    "    # preprocess data\n",
    "    preprocessed = preprocessor.transform(df)\n",
    "    # create dataset\n",
    "    dataset = MyDataset(preprocessed)\n",
    "    # create data loader\n",
    "    data_loader = DataLoader(dataset, batch_size=32, shuffle=False)\n",
    "    return data_loader\n",
    "\n",
    "def predict(data_loader):\n",
    "    import torch\n",
    "    with torch.no_grad():\n",
    "        for features in data_loader:\n",
    "            # input features\n",
    "            features = features.float()\n",
    "            features = features.to(device)\n",
    "        # predict\n",
    "        outputs = model(features)\n",
    "        # number of dims, to account for single sample\n",
    "        dims = len(outputs.shape)\n",
    "        # get predicted classes\n",
    "        _, predicted = torch.max(outputs.data, dims-1)\n",
    "    return predicted.numpy()"
   ]
  },
  {
   "cell_type": "code",
   "execution_count": 6,
   "metadata": {},
   "outputs": [],
   "source": [
    "import pandas as pd\n",
    "# input to dataframe\n",
    "df = pd.DataFrame([input.dict()])\n",
    "# prepare features\n",
    "data_loader = prepare_features(df)"
   ]
  },
  {
   "cell_type": "code",
   "execution_count": 11,
   "metadata": {},
   "outputs": [],
   "source": [
    "from joblib import dump\n",
    "for feature in data_loader:\n",
    "    dump(feature, './models/example_input_tensor')"
   ]
  },
  {
   "cell_type": "code",
   "execution_count": 119,
   "metadata": {},
   "outputs": [],
   "source": [
    "# inputs to dataframe\n",
    "df = pd.DataFrame(inputs.dict_inputs())\n",
    "# prepare features\n",
    "data_loaders = prepare_features(df)"
   ]
  },
  {
   "cell_type": "code",
   "execution_count": 130,
   "metadata": {},
   "outputs": [
    {
     "data": {
      "text/plain": [
       "array(77)"
      ]
     },
     "execution_count": 130,
     "metadata": {},
     "output_type": "execute_result"
    }
   ],
   "source": [
    "prediction = predict(data_loader)\n",
    "prediction"
   ]
  },
  {
   "cell_type": "code",
   "execution_count": 131,
   "metadata": {},
   "outputs": [
    {
     "data": {
      "text/plain": [
       "'Low Alcohol Beer'"
      ]
     },
     "execution_count": 131,
     "metadata": {},
     "output_type": "execute_result"
    }
   ],
   "source": [
    "import numpy as np\n",
    "np.vectorize(label_map.get)(prediction).tolist()"
   ]
  },
  {
   "cell_type": "code",
   "execution_count": 28,
   "metadata": {},
   "outputs": [
    {
     "ename": "IndexError",
     "evalue": "Dimension out of range (expected to be in range of [-1, 0], but got 1)",
     "output_type": "error",
     "traceback": [
      "\u001b[0;31m---------------------------------------------------------------------------\u001b[0m",
      "\u001b[0;31mIndexError\u001b[0m                                Traceback (most recent call last)",
      "Cell \u001b[0;32mIn[28], line 2\u001b[0m\n\u001b[1;32m      1\u001b[0m \u001b[39mimport\u001b[39;00m \u001b[39mtorch\u001b[39;00m\n\u001b[0;32m----> 2\u001b[0m torch\u001b[39m.\u001b[39;49mmax(prediction\u001b[39m.\u001b[39;49mdata, \u001b[39m1\u001b[39;49m)\n",
      "\u001b[0;31mIndexError\u001b[0m: Dimension out of range (expected to be in range of [-1, 0], but got 1)"
     ]
    }
   ],
   "source": [
    "import torch\n",
    "torch.max(prediction.data, 1)"
   ]
  },
  {
   "cell_type": "code",
   "execution_count": 95,
   "metadata": {},
   "outputs": [
    {
     "data": {
      "text/plain": [
       "torch.return_types.max(\n",
       "values=tensor([  4.8411,   8.8629,  -2.6552,  14.6094, -75.8212,   6.9101,  17.9016,\n",
       "          7.9461,   6.2154, -31.5230, -23.4660, -37.0261,   8.1845,  -7.5332,\n",
       "          7.5206,  16.2280,   8.0333, -16.1123,   8.2967,  -9.3449,  11.9510,\n",
       "         -8.0741, -13.9905,   2.2087,  13.6348, -69.8907, -51.1821,  24.5593,\n",
       "          9.9829, -11.9452,  -4.0773,   9.8940,   1.0742,   8.3843,   7.1419,\n",
       "          9.7032,  -0.9713, -17.6717,  -3.5996,  15.3207,  -7.6790, -24.1883,\n",
       "        -29.9908,  15.7601,  11.4170,  19.9726,  13.8423,   1.7244,  17.5218,\n",
       "         -1.5563,   4.5678, -10.5625,  10.8110,  10.1420, -12.2132,   3.9774,\n",
       "          6.1423,  -1.4292, -11.6013,  -4.6609,  22.2868,  -3.1780,   6.5762,\n",
       "         -8.2519,  12.4662,   7.3707,  23.3990,  16.9549,   9.2236,  18.5803,\n",
       "          8.7841,  10.9538,  25.6658,  20.1544,  18.2914,   6.4373,  25.0564,\n",
       "         29.6465, -24.8069,   2.7250,   7.2780,  18.6077,   5.6667,   5.7901,\n",
       "         -9.8382,   4.1664, -19.7866,   4.3877,   4.1464, -73.1765,  18.0566,\n",
       "          6.1319,  20.3420,   5.2602,   3.5865,   8.7105,   8.8943,  13.3315,\n",
       "        -54.0568,   6.2433, -38.7966, -13.1558,  -4.3328,   1.8037]),\n",
       "indices=tensor([0, 0, 0, 0, 0, 0, 0, 0, 0, 0, 0, 0, 0, 0, 0, 0, 0, 0, 0, 0, 0, 0, 0, 0,\n",
       "        0, 0, 0, 0, 0, 0, 0, 0, 0, 0, 0, 0, 0, 0, 0, 0, 0, 0, 0, 0, 0, 0, 0, 0,\n",
       "        0, 0, 0, 0, 0, 0, 0, 0, 0, 0, 0, 0, 0, 0, 0, 0, 0, 0, 0, 0, 0, 0, 0, 0,\n",
       "        0, 0, 0, 0, 0, 0, 0, 0, 0, 0, 0, 0, 0, 0, 0, 0, 0, 0, 0, 0, 0, 0, 0, 0,\n",
       "        0, 0, 0, 0, 0, 0, 0, 0]))"
      ]
     },
     "execution_count": 95,
     "metadata": {},
     "output_type": "execute_result"
    }
   ],
   "source": [
    "torch.max(outputs.data,0)"
   ]
  }
 ],
 "metadata": {
  "kernelspec": {
   "display_name": "adsi_at2",
   "language": "python",
   "name": "python3"
  },
  "language_info": {
   "codemirror_mode": {
    "name": "ipython",
    "version": 3
   },
   "file_extension": ".py",
   "mimetype": "text/x-python",
   "name": "python",
   "nbconvert_exporter": "python",
   "pygments_lexer": "ipython3",
   "version": "3.9.17"
  },
  "orig_nbformat": 4
 },
 "nbformat": 4,
 "nbformat_minor": 2
}
